{
 "cells": [
  {
   "cell_type": "markdown",
   "metadata": {
    "id": "HcPTinm2loDp"
   },
   "source": [
    "# Scripting languages: Assignment 1\n",
    "\n",
    "Deadline: Wednesday 8 November 2023, 11:59pm\n",
    "\n",
    "You are required to submit this assignment in notebook format (`.ipynb`). If you're using Jupyter Notebook on your own computer, this file will be created automatically. If you're using Google Colab, you can create an `.ipynb` file by selecting File -> Download -> Download .ipynb.\n",
    "\n",
    "You are encouraged to use comments in order to explain what your code is doing, or to make use of the notebook text blocks in order to do so. Including comments will positively affect your grade.\n",
    "\n",
    "You can upload your file on Toledo (under 'Assignments'\n",
    "$\\rightarrow$ 'Assignment 1'). The deadline for submission is **Wednesday 8 November 2023, 11:59pm**."
   ]
  },
  {
   "cell_type": "markdown",
   "metadata": {
    "id": "idXYmaXxnIx5"
   },
   "source": [
    "## Creating the third person singular form in English\n",
    "\n",
    "The third person singular verb form in English is distinguished by the suffix -s, which is added to the stem of the infinitive form: *run* -> *runs*. A simple set of rules can be given as follows:\n",
    "\n",
    "1. If the verb ends in y, remove it and add ies\n",
    "2. If the verb ends in o, ch, s, sh, x or z, add es\n",
    "3. By default just add s\n",
    "\n",
    "Create a function that takes the root (infinitive) form of a verb (e.g. *run*), and outputs the inflected form in the third person singular (*runs*). Test your function with a few verbs (e.g. *try*, *brush*, *run* and *fix*). Be aware that the rules above are heuristic: they will not work for every possible verb in English. Try to create a function that works correctly for as many verbs as possible."
   ]
  },
  {
   "cell_type": "code",
   "execution_count": 1,
   "metadata": {},
   "outputs": [
    {
     "name": "stdout",
     "output_type": "stream",
     "text": [
      "tries\n",
      "brushes\n",
      "runs\n",
      "fixes\n"
     ]
    }
   ],
   "source": [
    "#Code     \n",
    "\n",
    "def third_person_singular(root):\n",
    "    if root.endswith(\"y\"):\n",
    "        return root.rstrip(root[-1]) + \"ies\"\n",
    "    elif root.endswith((\"o\", \"ch\", \"s\", \"sh\", \"x\", \"z\")):\n",
    "        return root + \"es\"\n",
    "    else:\n",
    "        return root + \"s\"\n",
    "    \n",
    "#Comments\n",
    "#Line 1: Defining the function and its parameter\n",
    "#Line 2: Employing the first conditional expression using an \"if-statement\"  with the str.endswith obj.-method \n",
    "#Line 3: Using return (not print in order to avoid \"None\" output) with str.rstrip method in order to remove terminal y and add \"ies\"   \n",
    "#Line 4: Employing my second conditional expression using \"elif-statement\" with the str.endswith obj.-method ; individual letters formated as a tuple of strings for method to run    \n",
    "#Line 5: Using return (not print in order to avoid \"None\" output) with the root and add \"es\"\n",
    "#Line 6: Employing my third conditional expression using \"else\" for other roots that do adher to first two conditions\n",
    "#LIne 7: Using return (not print in order to avoid \"None\" output) with the root and add \"s\" \n",
    "\n",
    "\n",
    "#Execution\n",
    "#Example #1\n",
    "print(third_person_singular(\"try\"))\n",
    "\n",
    "#Example #2\n",
    "print(third_person_singular(\"brush\"))\n",
    "\n",
    "#Example #3\n",
    "print(third_person_singular(\"run\"))\n",
    "\n",
    "#Example #4\n",
    "print(third_person_singular(\"fix\"))\n"
   ]
  },
  {
   "cell_type": "markdown",
   "metadata": {
    "id": "wUUl8G0rnMnx"
   },
   "source": [
    "## Extracting Shakespeare Dialogues\n",
    "\n",
    "The file `romeo_juliet.txt` contains an excerpt of Act I of Shakespeare's Romeo and Juliet. Your objective is to extract lines of dialogue for each character. For a given character, we want to have all the lines spoken by the character in a list, so that we can later analyze each character separately. Create a function `extract_dialogue`, which takes a filename as input, and returns a dictionary that maps names of characters to a list of their dialogue lines:\n",
    "\n",
    "`{'Samp': [\"Gregory, on my word, we'll not carry coals.\", ...], ...}`\n",
    "\n",
    "Note that we only want the lines of dialogue; we want to ignore the other parts of the excerpt.\n",
    "\n",
    "You can download the file `romeo_juliet.txt` using the command below (if you're working locally on using Windows, you can also just use a web browser, and download the file to your computer using the link):"
   ]
  },
  {
   "cell_type": "code",
   "execution_count": null,
   "metadata": {
    "id": "e2CsxzaX9_yG"
   },
   "outputs": [],
   "source": [
    "!wget http://ccl.kuleuven.be/Courses/scripting/assignment1/romeo_juliet.txt"
   ]
  },
  {
   "cell_type": "code",
   "execution_count": 4,
   "metadata": {},
   "outputs": [
    {
     "data": {
      "text/plain": [
       "{'Samp': [\"Gregory, on my word, we'll not carry coals.\",\n",
       "  \"I mean, an we be in choler, we'll draw.\",\n",
       "  'I strike quickly, being moved.',\n",
       "  'A dog of the house of Montague moves me.',\n",
       "  \"A dog of that house shall move me to stand. I will takethe wall of any man or maid of Montague's.\",\n",
       "  \"'Tis true; and therefore women, being the weaker vessels,are ever thrust to the wall. Therefore I will push Montague's menfrom the wall and thrust his maids to the wall.\",\n",
       "  \"'Tis all one. I will show myself a tyrant. When I havefought with the men, I will be cruel with the maids- I will cut offtheir heads.\",\n",
       "  'Ay, the heads of the maids, or their maidenheads.Take it in what sense thou wilt.',\n",
       "  \"Me they shall feel while I am able to stand; and 'tis known Iam a pretty piece of flesh.\",\n",
       "  'My naked weapon is out. Quarrel! I will back thee.',\n",
       "  'Fear me not.',\n",
       "  'Let us take the law of our sides; let them begin.',\n",
       "  'Nay, as they dare. I will bite my thumb at them; which isdisgrace to them, if they bear it.',\n",
       "  'I do bite my thumb, sir.',\n",
       "  '[aside to Gregory] Is the law of our side if I say ay?',\n",
       "  'No, sir, I do not bite my thumb at you, sir; but I bite mythumb, sir.',\n",
       "  'But if you do, sir, am for you. I serve as good a man asyou.',\n",
       "  'Well, sir.'],\n",
       " 'Greg': ['No, for then we should be colliers.',\n",
       "  'Ay, while you live, draw your neck out of collar.',\n",
       "  'But thou art not quickly moved to strike.',\n",
       "  \"To move is to stir, and to be valiant is to stand.Therefore, if thou art moved, thou runn'st away.\",\n",
       "  'That shows thee a weak slave; for the weakest goes to thewall.',\n",
       "  'The quarrel is between our masters and us their men.',\n",
       "  'The heads of the maids?',\n",
       "  'They must take it in sense that feel it.',\n",
       "  \"'Tis well thou art not fish; if thou hadst, thou hadstbeen poor-John. Draw thy tool! Here comes two of the house ofMontagues.\",\n",
       "  'How? turn thy back and run?',\n",
       "  'No, marry. I fear thee!',\n",
       "  'I will frown as I pass by, and let them take it as they list.',\n",
       "  '[aside to Sampson] No.',\n",
       "  'Do you quarrel, sir?'],\n",
       " 'Abr': ['Do you bite your thumb at us, sir?',\n",
       "  'Do you bite your thumb at us, sir?',\n",
       "  'Quarrel, sir? No, sir.',\n",
       "  'No better.']}"
      ]
     },
     "execution_count": 4,
     "metadata": {},
     "output_type": "execute_result"
    }
   ],
   "source": [
    "#Part 1: Defining the function and its parameter\n",
    "#Using \"with and open\" to define a (readable, \"r\") file stream that is accesssible through in_file\n",
    "\n",
    "def extract_dialogue(filename):\n",
    "    with open(filename, 'r') as in_file:\n",
    "        \n",
    "#Part 2: Creating new (cleaner) lists of the filename content\n",
    "#The below code works to separate all essential dialogue from the superfluous data. I have done it in five steps:\n",
    "#Step 1 --> Creation of \"file_contents\" which reads the in_file and separates data into individual lines\n",
    "#Step 2 --> Creation of \"dialogue\" which removes superfluous \\n lines\n",
    "#Step 3 --> Creation of \"dialogue_cleaning_1\" which removes indented text that is not dialogue; executed by highlighting this text's position\n",
    "#Step 4 --> Creation of \"dialogue_cleaning_2\" to isolate dialogue; executed by highlighting the position(s) dialogue occurs in; simultaneously removing extra spaces with .lstrip()\n",
    "#Step 5 --> Creation of \"dialogue_cleaning_3\" to replace \".\" after speaker's name with \":\" ... Important for the dictionary created later\n",
    "\n",
    "        file_contents = in_file.read().splitlines()\n",
    "        dialogue = [ line for line in file_contents if line.strip() != \"\" ]\n",
    "        dialogue_cleaning_1 = [line for line in dialogue if not (line.startswith(\" \"*11))] \n",
    "        dialogue_cleaning_2 = [line.lstrip() for line in dialogue_cleaning_1 if (line.startswith(\" \"*2)) or (line.startswith(\" \"*4))]\n",
    "        dialogue_cleaning_3 = [line.replace(\"Samp.\", \"Samp:\").replace(\"Greg.\",\"Greg:\").replace(\"Abr.\",\"Abr:\") for line in dialogue_cleaning_2]\n",
    "        \n",
    "#Part 3: Ensuring multi-Lined sentences are not split\n",
    "#By splitting the data earlier into separate lines, multi-lined sentences were also split.\n",
    "#through this code, lines that start with \"Samp:\", \"Greg:\", or \"Abr:\" are considered new dialogue lines and appended to \"final_dialogue\"\n",
    "#lines that do not start with \"Samp:\", \"Greg:\", or \"Abr:\" become continuations of the previous line.\n",
    "#\"final_dialogue\" represents the cleanest list of dialogue lines developed in this code, as it shows the speaker name and their instances of dialogue.\n",
    "\n",
    "        final_dialogue = []\n",
    "        current_line = \"\"\n",
    "        for line in dialogue_cleaning_3:\n",
    "            if (line.startswith(\"Samp:\")) or (line.startswith(\"Greg:\")) or (line.startswith(\"Abr:\")):\n",
    "                final_dialogue.append(line)\n",
    "                current_line = line.strip()\n",
    "            else:\n",
    "                current_line += line\n",
    "                final_dialogue[-1] = current_line.strip()\n",
    "        \n",
    "#Part 4: Develop the dictionary based on \"final_dialogue\"\n",
    "#Considering each line starts with the speaker name followed by an instance of dialogue (i.e. \"Samp: I strike quickly, being moved.\") we need to split speaker from dialogue in the dictionary\n",
    "#By looping through \"final_dialogue\", this code splits the \"character_name\" from the \"dialogue_text\" and works to make them the key and value in \"character_and_dialogue_dictionary\"\n",
    "#The \"if-else\" conditional helps appropriately fill the \"character_and_dialogue_dictionary\" as code loops through \"final_dialogue\".\n",
    "        \n",
    "        character_and_dialogue_dictionary={}\n",
    "        for lines in final_dialogue:\n",
    "            split_lines = lines.split(\":\")                            #This is where \":\" comes to be in handy. \".\" used elsewhere in text, making it harder for code to work correctly\n",
    "            character_name = split_lines[0].strip()\n",
    "            dialogue_text = split_lines[1].strip()\n",
    "            if character_name in character_and_dialogue_dictionary:\n",
    "                character_and_dialogue_dictionary[character_name].append(dialogue_text)\n",
    "            else:\n",
    "                character_and_dialogue_dictionary[character_name] = [dialogue_text]\n",
    "                \n",
    "#Part 5: Return\n",
    "#Returning \"character_and_dialogue_dictionary\" as this is the data I want revealed when \"extract_dialogue(filename)\" is executed.\n",
    "                \n",
    "    return character_and_dialogue_dictionary\n",
    "\n",
    "\n",
    "#Testing the Function\n",
    "(extract_dialogue('romeo_juliet.txt'))"
   ]
  },
  {
   "cell_type": "code",
   "execution_count": null,
   "metadata": {},
   "outputs": [],
   "source": []
  }
 ],
 "metadata": {
  "colab": {
   "private_outputs": true,
   "provenance": []
  },
  "kernelspec": {
   "display_name": "Python 3 (ipykernel)",
   "language": "python",
   "name": "python3"
  },
  "language_info": {
   "codemirror_mode": {
    "name": "ipython",
    "version": 3
   },
   "file_extension": ".py",
   "mimetype": "text/x-python",
   "name": "python",
   "nbconvert_exporter": "python",
   "pygments_lexer": "ipython3",
   "version": "3.11.4"
  }
 },
 "nbformat": 4,
 "nbformat_minor": 1
}
